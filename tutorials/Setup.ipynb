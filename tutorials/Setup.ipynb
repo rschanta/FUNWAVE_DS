{
 "cells": [
  {
   "cell_type": "markdown",
   "metadata": {},
   "source": [
    "# Basic Setup"
   ]
  },
  {
   "cell_type": "markdown",
   "metadata": {},
   "source": [
    "## Installing the package\n",
    "Once the repo is pulled from github, the `funwave_ds` package can be installed by running the following in terminal:\n",
    "\n",
    "```console\n",
    "pip install -e \"path/to/FUNWAVE_DS\"\n",
    "```\n",
    "\n",
    "Somewhat confusingly, this path should *not* be the path `funwave_ds`. It needs to be the path to the outer `FUNWAVE_DS` directory, which contains the `setup.py` script that contains the directions to install the package succesfully. Note that the `-e` extension allows the package to be installed in \"editable\" mode, which enables the user to edit any files within and have those edits be immediately available without reinstalling."
   ]
  },
  {
   "cell_type": "code",
   "execution_count": 2,
   "metadata": {},
   "outputs": [],
   "source": [
    "import funwave_ds as fwd\n",
    "import os"
   ]
  },
  {
   "cell_type": "markdown",
   "metadata": {},
   "source": [
    "## Setting Up a Model/Run Directory\n",
    "\n",
    "To set up the directories as specified in [Environment Variables/Project Organization](../doc/setup/directories.md), the `setup_model_run()` function is used, which takes in keyword arguments. This function creates all the directories as detailed in the documentation, as well as the `.env` file with the environment variables for this run:"
   ]
  },
  {
   "cell_type": "code",
   "execution_count": 4,
   "metadata": {},
   "outputs": [
    {
     "name": "stdout",
     "output_type": "stream",
     "text": [
      "Created Flat_Tank folder with subdirectories: design_matrices, logs, batch_scripts, model_code, model_pipelines, envs\n",
      "Wrote .env file to C:\\Users\\rschanta\\OneDrive - University of Delaware - o365\\Desktop\\Research\\FUNWAVE_DS\\FUNWAVE_DS\\tutorials\\USACE\\Flat_Tank\\Time_Sens\\envs\\Time_Sens.env\n"
     ]
    }
   ],
   "source": [
    "base = r'C:\\Users\\rschanta\\OneDrive - University of Delaware - o365\\Desktop\\Research\\FUNWAVE_DS\\FUNWAVE_DS\\tutorials'\n",
    "\n",
    "\n",
    "d = {\n",
    "     'WORK_DIR': os.path.join(base,'USACE'),\n",
    "     'DATA_DIR': os.path.join(base,'data'),\n",
    "     'TEMP_DIR': os.path.join(base,'temp'),\n",
    "     'FW_MODEL': 'Flat_Tank',\n",
    "     'RUN_NAME': 'Time_Sens',\n",
    "     'FW_EX': \"/work/thsu/rschanta/RTS-PY/funwave/FW_rts/exec/FW-REG\",\n",
    "     'CONDA_ENV': \"tf_env\"}\n",
    "\n",
    "\n",
    "fwd.setup_model_run(**d)"
   ]
  },
  {
   "cell_type": "markdown",
   "metadata": {},
   "source": [
    "With this setup, we can now go to the "
   ]
  }
 ],
 "metadata": {
  "kernelspec": {
   "display_name": "base",
   "language": "python",
   "name": "python3"
  },
  "language_info": {
   "codemirror_mode": {
    "name": "ipython",
    "version": 3
   },
   "file_extension": ".py",
   "mimetype": "text/x-python",
   "name": "python",
   "nbconvert_exporter": "python",
   "pygments_lexer": "ipython3",
   "version": "3.12.3"
  }
 },
 "nbformat": 4,
 "nbformat_minor": 2
}
