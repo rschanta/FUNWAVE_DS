{
 "cells": [
  {
   "cell_type": "markdown",
   "metadata": {},
   "source": [
    "# Generate Inputs"
   ]
  },
  {
   "cell_type": "markdown",
   "metadata": {},
   "source": [
    "## Setup\n",
    "### Import Packages\n",
    "First, we begin by importing the relevant packages. There are three important pacakages here:\n",
    "- `dotenv`: Utility for loading in environment variables from `.env` file\n",
    "- `funwave_ds`: the `funwave_ds` module itself\n",
    "- `model_code`: the code specific to this individual run. "
   ]
  },
  {
   "cell_type": "code",
   "execution_count": 1,
   "metadata": {},
   "outputs": [],
   "source": [
    "# Import packages\n",
    "from dotenv import load_dotenv\n",
    "import funwave_ds.fw_py as fpy\n",
    "import funwave_ds.fw_fs as ffs\n",
    "import model_code as mod"
   ]
  },
  {
   "cell_type": "markdown",
   "metadata": {},
   "source": [
    "### Sourcing Environment Variables"
   ]
  },
  {
   "cell_type": "code",
   "execution_count": 2,
   "metadata": {},
   "outputs": [
    {
     "data": {
      "text/plain": [
       "True"
      ]
     },
     "execution_count": 2,
     "metadata": {},
     "output_type": "execute_result"
    }
   ],
   "source": [
    "# Source Environment Variabels\n",
    "load_dotenv(dotenv_path=r'./envs/DX_Sens.env')"
   ]
  },
  {
   "cell_type": "markdown",
   "metadata": {},
   "source": [
    "## The Design Matrix\n",
    "Next, we load in a design matrix. See the specification for how these work at:"
   ]
  },
  {
   "cell_type": "code",
   "execution_count": 3,
   "metadata": {},
   "outputs": [],
   "source": [
    "# Define the design matrix\n",
    "matrix_file = r'./design_matrices/A2.csv'"
   ]
  },
  {
   "cell_type": "markdown",
   "metadata": {},
   "source": [
    "## The Preprocessing Pipeline\n",
    "Next, we define a **preprocessing pipeline** comprised of a series of pipeline functions. Each of these are specified in the `model_code` directory, and are applied sequentially. See the documentation at "
   ]
  },
  {
   "cell_type": "code",
   "execution_count": 4,
   "metadata": {},
   "outputs": [],
   "source": [
    "# Pipeline: Get bathy_df, make stable\n",
    "function_sets = {'Standard' : [mod.get_input_vars,\n",
    "                               mod.get_hydro,\n",
    "                               mod.set_domain,\n",
    "                               mod.set_stations]}"
   ]
  },
  {
   "cell_type": "markdown",
   "metadata": {},
   "source": [
    "## Plot, Filter, and Print Functions"
   ]
  },
  {
   "cell_type": "code",
   "execution_count": 5,
   "metadata": {},
   "outputs": [],
   "source": [
    "# Plot functions\n",
    "plot_functions = []\n",
    "\n",
    "# Filter functions\n",
    "filter_functions = []\n",
    "\n",
    "# Print functions\n",
    "print_functions = [ffs.print_stations]\n"
   ]
  },
  {
   "cell_type": "markdown",
   "metadata": {},
   "source": [
    "## Processing the Design Matrix\n",
    "Now, we have everything we need to run the main function `process_design_matrix_NC`"
   ]
  },
  {
   "cell_type": "code",
   "execution_count": 6,
   "metadata": {},
   "outputs": [
    {
     "name": "stdout",
     "output_type": "stream",
     "text": [
      "Started Directory Creation...\n",
      "Directories successfully created!\n",
      "SUCCESS: Design matrix has valid ranges/values for all parameters\n",
      "\n",
      "Started processing permutation: 00000...\n",
      "\n",
      "Applying DEPENDENCY functions\n",
      "\tApplying DEPENDENCY function: get_input_vars\n",
      "\t\tStarted accessing input variables...\n",
      "Tperiod 2.0\n",
      "DEPTH_FLAT 1.0\n",
      "DX 0.07\n",
      "\t\tSuccessfully got input variables!\n",
      "\tApplying DEPENDENCY function: get_hydro\n",
      "\t\tStarted calculating hydrodynamics...\n",
      "\t\tSuccessfully calculated hydrodynamic variables!\n",
      "\tApplying DEPENDENCY function: set_domain\n",
      "\t\tStarted setting domain/forcing...\n",
      "\t\tSuccessfully set up domain!\n",
      "\tApplying DEPENDENCY function: set_stations\n",
      "\t\tStarted setting upstations...\n",
      "\t\tSuccessfully set up stations!\n",
      "All DEPENDENCY functions completed successfully!\n",
      "\n",
      "Applying FILTER functions\n",
      "All FILTER functions passed successfully!\n",
      "\n",
      "Applying PRINT functions\n",
      "\tApplying PRINT function: print_stations\n",
      "\t\tStarted printing station file (STATIONS_FILE)...\n",
      "\t\tSTATION file successfully saved to: C:\\Users\\rschanta\\OneDrive - University of Delaware - o365\\Desktop\\Research\\FUNWAVE_DS\\FUNWAVE_DS\\tutorials\\temp\\Flat_Tank\\DX_Sens\\st\\st_00001.txt\n",
      "All PRINT functions completed successfully!\n",
      "\n",
      "Started compressing data to NETCDF...\n",
      "\tStarting type enforcement on NETCDF\n",
      "\tFinished type enforcement on NETCDF\n",
      "NETCDF for input data successful!\n",
      "\n",
      "PRINTING input.txt...\n",
      "\tStarted printing input file...\n",
      "\tinput.txt file successfully saved to: C:\\Users\\rschanta\\OneDrive - University of Delaware - o365\\Desktop\\Research\\FUNWAVE_DS\\FUNWAVE_DS\\tutorials\\temp\\Flat_Tank\\DX_Sens\\inputs\\input_00001.txt\n",
      "SUCCESSFULLY PRINTED FILES FOR TRIAL: 00001\n",
      "########################################\n",
      "\n",
      "Started processing permutation: 00001...\n",
      "\n",
      "Applying DEPENDENCY functions\n",
      "\tApplying DEPENDENCY function: get_input_vars\n",
      "\t\tStarted accessing input variables...\n",
      "Tperiod 3.0\n",
      "DEPTH_FLAT 1.0\n",
      "DX 0.12\n",
      "\t\tSuccessfully got input variables!\n",
      "\tApplying DEPENDENCY function: get_hydro\n",
      "\t\tStarted calculating hydrodynamics...\n",
      "\t\tSuccessfully calculated hydrodynamic variables!\n",
      "\tApplying DEPENDENCY function: set_domain\n",
      "\t\tStarted setting domain/forcing...\n",
      "\t\tSuccessfully set up domain!\n",
      "\tApplying DEPENDENCY function: set_stations\n",
      "\t\tStarted setting upstations...\n",
      "\t\tSuccessfully set up stations!\n",
      "All DEPENDENCY functions completed successfully!\n",
      "\n",
      "Applying FILTER functions\n",
      "All FILTER functions passed successfully!\n",
      "\n",
      "Applying PRINT functions\n",
      "\tApplying PRINT function: print_stations\n",
      "\t\tStarted printing station file (STATIONS_FILE)...\n",
      "\t\tSTATION file successfully saved to: C:\\Users\\rschanta\\OneDrive - University of Delaware - o365\\Desktop\\Research\\FUNWAVE_DS\\FUNWAVE_DS\\tutorials\\temp\\Flat_Tank\\DX_Sens\\st\\st_00002.txt\n",
      "All PRINT functions completed successfully!\n",
      "\n",
      "Started compressing data to NETCDF...\n",
      "\tStarting type enforcement on NETCDF\n",
      "\tFinished type enforcement on NETCDF\n",
      "NETCDF for input data successful!\n",
      "\n",
      "PRINTING input.txt...\n",
      "\tStarted printing input file...\n",
      "\tinput.txt file successfully saved to: C:\\Users\\rschanta\\OneDrive - University of Delaware - o365\\Desktop\\Research\\FUNWAVE_DS\\FUNWAVE_DS\\tutorials\\temp\\Flat_Tank\\DX_Sens\\inputs\\input_00002.txt\n",
      "SUCCESSFULLY PRINTED FILES FOR TRIAL: 00002\n",
      "########################################\n",
      "\n",
      "Started processing permutation: 00002...\n",
      "\n",
      "Applying DEPENDENCY functions\n",
      "\tApplying DEPENDENCY function: get_input_vars\n",
      "\t\tStarted accessing input variables...\n",
      "Tperiod 3.0\n",
      "DEPTH_FLAT 2.0\n",
      "DX 0.16\n",
      "\t\tSuccessfully got input variables!\n",
      "\tApplying DEPENDENCY function: get_hydro\n",
      "\t\tStarted calculating hydrodynamics...\n",
      "\t\tSuccessfully calculated hydrodynamic variables!\n",
      "\tApplying DEPENDENCY function: set_domain\n",
      "\t\tStarted setting domain/forcing...\n",
      "\t\tSuccessfully set up domain!\n",
      "\tApplying DEPENDENCY function: set_stations\n",
      "\t\tStarted setting upstations...\n",
      "\t\tSuccessfully set up stations!\n",
      "All DEPENDENCY functions completed successfully!\n",
      "\n",
      "Applying FILTER functions\n",
      "All FILTER functions passed successfully!\n",
      "\n",
      "Applying PRINT functions\n",
      "\tApplying PRINT function: print_stations\n",
      "\t\tStarted printing station file (STATIONS_FILE)...\n",
      "\t\tSTATION file successfully saved to: C:\\Users\\rschanta\\OneDrive - University of Delaware - o365\\Desktop\\Research\\FUNWAVE_DS\\FUNWAVE_DS\\tutorials\\temp\\Flat_Tank\\DX_Sens\\st\\st_00003.txt\n",
      "All PRINT functions completed successfully!\n",
      "\n",
      "Started compressing data to NETCDF...\n",
      "\tStarting type enforcement on NETCDF\n",
      "\tFinished type enforcement on NETCDF\n",
      "NETCDF for input data successful!\n",
      "\n",
      "PRINTING input.txt...\n",
      "\tStarted printing input file...\n",
      "\tinput.txt file successfully saved to: C:\\Users\\rschanta\\OneDrive - University of Delaware - o365\\Desktop\\Research\\FUNWAVE_DS\\FUNWAVE_DS\\tutorials\\temp\\Flat_Tank\\DX_Sens\\inputs\\input_00003.txt\n",
      "SUCCESSFULLY PRINTED FILES FOR TRIAL: 00003\n",
      "########################################\n",
      "\n",
      "Started processing permutation: 00003...\n",
      "\n",
      "Applying DEPENDENCY functions\n",
      "\tApplying DEPENDENCY function: get_input_vars\n",
      "\t\tStarted accessing input variables...\n",
      "Tperiod 4.0\n",
      "DEPTH_FLAT 1.0\n",
      "DX 0.17\n",
      "\t\tSuccessfully got input variables!\n",
      "\tApplying DEPENDENCY function: get_hydro\n",
      "\t\tStarted calculating hydrodynamics...\n",
      "\t\tSuccessfully calculated hydrodynamic variables!\n",
      "\tApplying DEPENDENCY function: set_domain\n",
      "\t\tStarted setting domain/forcing...\n",
      "\t\tSuccessfully set up domain!\n",
      "\tApplying DEPENDENCY function: set_stations\n",
      "\t\tStarted setting upstations...\n",
      "\t\tSuccessfully set up stations!\n",
      "All DEPENDENCY functions completed successfully!\n",
      "\n",
      "Applying FILTER functions\n",
      "All FILTER functions passed successfully!\n",
      "\n",
      "Applying PRINT functions\n",
      "\tApplying PRINT function: print_stations\n",
      "\t\tStarted printing station file (STATIONS_FILE)...\n",
      "\t\tSTATION file successfully saved to: C:\\Users\\rschanta\\OneDrive - University of Delaware - o365\\Desktop\\Research\\FUNWAVE_DS\\FUNWAVE_DS\\tutorials\\temp\\Flat_Tank\\DX_Sens\\st\\st_00004.txt\n",
      "All PRINT functions completed successfully!\n",
      "\n",
      "Started compressing data to NETCDF...\n",
      "\tStarting type enforcement on NETCDF\n",
      "\tFinished type enforcement on NETCDF\n",
      "NETCDF for input data successful!\n",
      "\n",
      "PRINTING input.txt...\n",
      "\tStarted printing input file...\n",
      "\tinput.txt file successfully saved to: C:\\Users\\rschanta\\OneDrive - University of Delaware - o365\\Desktop\\Research\\FUNWAVE_DS\\FUNWAVE_DS\\tutorials\\temp\\Flat_Tank\\DX_Sens\\inputs\\input_00004.txt\n",
      "SUCCESSFULLY PRINTED FILES FOR TRIAL: 00004\n",
      "########################################\n",
      "\n",
      "Started processing permutation: 00004...\n",
      "\n",
      "Applying DEPENDENCY functions\n",
      "\tApplying DEPENDENCY function: get_input_vars\n",
      "\t\tStarted accessing input variables...\n",
      "Tperiod 4.0\n",
      "DEPTH_FLAT 2.0\n",
      "DX 0.23\n",
      "\t\tSuccessfully got input variables!\n",
      "\tApplying DEPENDENCY function: get_hydro\n",
      "\t\tStarted calculating hydrodynamics...\n",
      "\t\tSuccessfully calculated hydrodynamic variables!\n",
      "\tApplying DEPENDENCY function: set_domain\n",
      "\t\tStarted setting domain/forcing...\n",
      "\t\tSuccessfully set up domain!\n",
      "\tApplying DEPENDENCY function: set_stations\n",
      "\t\tStarted setting upstations...\n",
      "\t\tSuccessfully set up stations!\n",
      "All DEPENDENCY functions completed successfully!\n",
      "\n",
      "Applying FILTER functions\n",
      "All FILTER functions passed successfully!\n",
      "\n",
      "Applying PRINT functions\n",
      "\tApplying PRINT function: print_stations\n",
      "\t\tStarted printing station file (STATIONS_FILE)...\n",
      "\t\tSTATION file successfully saved to: C:\\Users\\rschanta\\OneDrive - University of Delaware - o365\\Desktop\\Research\\FUNWAVE_DS\\FUNWAVE_DS\\tutorials\\temp\\Flat_Tank\\DX_Sens\\st\\st_00005.txt\n",
      "All PRINT functions completed successfully!\n",
      "\n",
      "Started compressing data to NETCDF...\n",
      "\tStarting type enforcement on NETCDF\n",
      "\tFinished type enforcement on NETCDF\n",
      "NETCDF for input data successful!\n",
      "\n",
      "PRINTING input.txt...\n",
      "\tStarted printing input file...\n",
      "\tinput.txt file successfully saved to: C:\\Users\\rschanta\\OneDrive - University of Delaware - o365\\Desktop\\Research\\FUNWAVE_DS\\FUNWAVE_DS\\tutorials\\temp\\Flat_Tank\\DX_Sens\\inputs\\input_00005.txt\n",
      "SUCCESSFULLY PRINTED FILES FOR TRIAL: 00005\n",
      "########################################\n",
      "File Generation Script Run!\n"
     ]
    }
   ],
   "source": [
    "# Write the files\n",
    "fpy.process_design_matrix_NC(matrix_file, \n",
    "                function_sets = function_sets, \n",
    "                filter_sets = filter_functions,\n",
    "                plot_sets = plot_functions,\n",
    "                print_sets = print_functions)\n",
    "\n",
    "print('File Generation Script Run!')"
   ]
  }
 ],
 "metadata": {
  "kernelspec": {
   "display_name": "base",
   "language": "python",
   "name": "python3"
  },
  "language_info": {
   "codemirror_mode": {
    "name": "ipython",
    "version": 3
   },
   "file_extension": ".py",
   "mimetype": "text/x-python",
   "name": "python",
   "nbconvert_exporter": "python",
   "pygments_lexer": "ipython3",
   "version": "3.12.3"
  }
 },
 "nbformat": 4,
 "nbformat_minor": 2
}
